{
 "cells": [
  {
   "cell_type": "markdown",
   "metadata": {},
   "source": [
    "# Demonstration of `numpyro-oop` usage\n",
    "\n"
   ]
  },
  {
   "cell_type": "code",
   "execution_count": 1,
   "metadata": {},
   "outputs": [
    {
     "name": "stderr",
     "output_type": "stream",
     "text": [
      "/Users/tsawallis/.local/share/virtualenvs/numpyro-oop-h_Ko2lEj/lib/python3.12/site-packages/tqdm/auto.py:21: TqdmWarning: IProgress not found. Please update jupyter and ipywidgets. See https://ipywidgets.readthedocs.io/en/stable/user_install.html\n",
      "  from .autonotebook import tqdm as notebook_tqdm\n"
     ]
    }
   ],
   "source": [
    "import pandas as pd\n",
    "import numpyro\n",
    "import numpyro.distributions as dist\n",
    "\n",
    "from numpyro_oop import BaseNumpyroModel"
   ]
  },
  {
   "cell_type": "markdown",
   "metadata": {},
   "source": [
    "## Basic regression example"
   ]
  },
  {
   "cell_type": "code",
   "execution_count": 2,
   "metadata": {},
   "outputs": [
    {
     "data": {
      "text/html": [
       "<div>\n",
       "<style scoped>\n",
       "    .dataframe tbody tr th:only-of-type {\n",
       "        vertical-align: middle;\n",
       "    }\n",
       "\n",
       "    .dataframe tbody tr th {\n",
       "        vertical-align: top;\n",
       "    }\n",
       "\n",
       "    .dataframe thead th {\n",
       "        text-align: right;\n",
       "    }\n",
       "</style>\n",
       "<table border=\"1\" class=\"dataframe\">\n",
       "  <thead>\n",
       "    <tr style=\"text-align: right;\">\n",
       "      <th></th>\n",
       "      <th>Location</th>\n",
       "      <th>Loc</th>\n",
       "      <th>Population</th>\n",
       "      <th>MedianAgeMarriage</th>\n",
       "      <th>Marriage</th>\n",
       "      <th>Marriage SE</th>\n",
       "      <th>Divorce</th>\n",
       "      <th>Divorce SE</th>\n",
       "      <th>WaffleHouses</th>\n",
       "      <th>South</th>\n",
       "      <th>Slaves1860</th>\n",
       "      <th>Population1860</th>\n",
       "      <th>PropSlaves1860</th>\n",
       "    </tr>\n",
       "  </thead>\n",
       "  <tbody>\n",
       "    <tr>\n",
       "      <th>0</th>\n",
       "      <td>Alabama</td>\n",
       "      <td>AL</td>\n",
       "      <td>4.78</td>\n",
       "      <td>25.3</td>\n",
       "      <td>20.2</td>\n",
       "      <td>1.27</td>\n",
       "      <td>12.7</td>\n",
       "      <td>0.79</td>\n",
       "      <td>128</td>\n",
       "      <td>1</td>\n",
       "      <td>435080</td>\n",
       "      <td>964201</td>\n",
       "      <td>0.45</td>\n",
       "    </tr>\n",
       "    <tr>\n",
       "      <th>1</th>\n",
       "      <td>Alaska</td>\n",
       "      <td>AK</td>\n",
       "      <td>0.71</td>\n",
       "      <td>25.2</td>\n",
       "      <td>26.0</td>\n",
       "      <td>2.93</td>\n",
       "      <td>12.5</td>\n",
       "      <td>2.05</td>\n",
       "      <td>0</td>\n",
       "      <td>0</td>\n",
       "      <td>0</td>\n",
       "      <td>0</td>\n",
       "      <td>0.00</td>\n",
       "    </tr>\n",
       "    <tr>\n",
       "      <th>2</th>\n",
       "      <td>Arizona</td>\n",
       "      <td>AZ</td>\n",
       "      <td>6.33</td>\n",
       "      <td>25.8</td>\n",
       "      <td>20.3</td>\n",
       "      <td>0.98</td>\n",
       "      <td>10.8</td>\n",
       "      <td>0.74</td>\n",
       "      <td>18</td>\n",
       "      <td>0</td>\n",
       "      <td>0</td>\n",
       "      <td>0</td>\n",
       "      <td>0.00</td>\n",
       "    </tr>\n",
       "    <tr>\n",
       "      <th>3</th>\n",
       "      <td>Arkansas</td>\n",
       "      <td>AR</td>\n",
       "      <td>2.92</td>\n",
       "      <td>24.3</td>\n",
       "      <td>26.4</td>\n",
       "      <td>1.70</td>\n",
       "      <td>13.5</td>\n",
       "      <td>1.22</td>\n",
       "      <td>41</td>\n",
       "      <td>1</td>\n",
       "      <td>111115</td>\n",
       "      <td>435450</td>\n",
       "      <td>0.26</td>\n",
       "    </tr>\n",
       "    <tr>\n",
       "      <th>4</th>\n",
       "      <td>California</td>\n",
       "      <td>CA</td>\n",
       "      <td>37.25</td>\n",
       "      <td>26.8</td>\n",
       "      <td>19.1</td>\n",
       "      <td>0.39</td>\n",
       "      <td>8.0</td>\n",
       "      <td>0.24</td>\n",
       "      <td>0</td>\n",
       "      <td>0</td>\n",
       "      <td>0</td>\n",
       "      <td>379994</td>\n",
       "      <td>0.00</td>\n",
       "    </tr>\n",
       "  </tbody>\n",
       "</table>\n",
       "</div>"
      ],
      "text/plain": [
       "     Location Loc  Population  MedianAgeMarriage  Marriage  Marriage SE  \\\n",
       "0     Alabama  AL        4.78               25.3      20.2         1.27   \n",
       "1      Alaska  AK        0.71               25.2      26.0         2.93   \n",
       "2     Arizona  AZ        6.33               25.8      20.3         0.98   \n",
       "3    Arkansas  AR        2.92               24.3      26.4         1.70   \n",
       "4  California  CA       37.25               26.8      19.1         0.39   \n",
       "\n",
       "   Divorce  Divorce SE  WaffleHouses  South  Slaves1860  Population1860  \\\n",
       "0     12.7        0.79           128      1      435080          964201   \n",
       "1     12.5        2.05             0      0           0               0   \n",
       "2     10.8        0.74            18      0           0               0   \n",
       "3     13.5        1.22            41      1      111115          435450   \n",
       "4      8.0        0.24             0      0           0          379994   \n",
       "\n",
       "   PropSlaves1860  \n",
       "0            0.45  \n",
       "1            0.00  \n",
       "2            0.00  \n",
       "3            0.26  \n",
       "4            0.00  "
      ]
     },
     "execution_count": 2,
     "metadata": {},
     "output_type": "execute_result"
    }
   ],
   "source": [
    "# example from https://num.pyro.ai/en/stable/tutorials/bayesian_regression.html\n",
    "\n",
    "DATASET_URL = \"https://raw.githubusercontent.com/rmcelreath/rethinking/master/data/WaffleDivorce.csv\"\n",
    "dset = pd.read_csv(DATASET_URL, sep=\";\")\n",
    "dset.head()"
   ]
  },
  {
   "cell_type": "code",
   "execution_count": 3,
   "metadata": {},
   "outputs": [],
   "source": [
    "def standardize(x):\n",
    "    return (x - x.mean()) / x.std()\n",
    "\n",
    "\n",
    "dset[\"AgeScaled\"] = dset.MedianAgeMarriage.pipe(standardize)\n",
    "dset[\"MarriageScaled\"] = dset.Marriage.pipe(standardize)\n",
    "dset[\"DivorceScaled\"] = dset.Divorce.pipe(standardize)"
   ]
  },
  {
   "cell_type": "markdown",
   "metadata": {},
   "source": [
    "### Defining the model class\n",
    "\n",
    "The basic idea of `numpyro-oop` is that the user should define a new class that inherits from `BaseNumpyroModel`. \n",
    "This new class mainly needs to define the `model` method.\n",
    "Then all other sampling and prediction steps are handled by `numpyro-oop`, or related libraries (e.g. `arviz`).\n",
    "\n",
    "Here's a demonstration of a basic `RegressionModel` class plus `model` definition for the data above.\n",
    "See the [numpyro demo here](https://num.pyro.ai/en/stable/tutorials/bayesian_regression.html) for more."
   ]
  },
  {
   "cell_type": "code",
   "execution_count": 4,
   "metadata": {},
   "outputs": [],
   "source": [
    "class RegressionModel(BaseNumpyroModel):\n",
    "    def model(self, data=None):\n",
    "        a = numpyro.sample(\"a\", dist.Normal(0.0, 0.2))\n",
    "        bM = numpyro.sample(\"bM\", dist.Normal(0.0, 0.5))\n",
    "        M = bM * data.MarriageScaled.values\n",
    "        sigma = numpyro.sample(\"sigma\", dist.Exponential(1.0))\n",
    "        mu = numpyro.deterministic(\"mu\", a + M)\n",
    "        numpyro.sample(\"obs\", dist.Normal(mu, sigma), obs=data.DivorceScaled.values)"
   ]
  },
  {
   "cell_type": "markdown",
   "metadata": {},
   "source": [
    "We can now instantiate this class, adding the dataset and a random seed.\n"
   ]
  },
  {
   "cell_type": "code",
   "execution_count": 5,
   "metadata": {},
   "outputs": [],
   "source": [
    "m1 = RegressionModel(data=dset, seed=42)"
   ]
  },
  {
   "cell_type": "markdown",
   "metadata": {},
   "source": [
    "We can also render a graphical representation of our model (requires `graphviz` package)."
   ]
  },
  {
   "cell_type": "code",
   "execution_count": 6,
   "metadata": {},
   "outputs": [],
   "source": [
    "m1_graph = m1.render()"
   ]
  },
  {
   "cell_type": "markdown",
   "metadata": {},
   "source": [
    "Now sample from the model (using the NUTS sampler, by default):"
   ]
  },
  {
   "cell_type": "code",
   "execution_count": 7,
   "metadata": {},
   "outputs": [
    {
     "name": "stderr",
     "output_type": "stream",
     "text": [
      "/Users/tsawallis/HESSENBOX-DA/tsawallis/Projects/numpyro-oop/numpyro_oop/core.py:107: UserWarning: There are not enough devices to run parallel chains: expected 4 but got 1. Chains will be drawn sequentially. If you are running MCMC in CPU, consider using `numpyro.set_host_device_count(4)` at the beginning of your program. You can double-check how many devices are available in your system using `jax.local_device_count()`.\n",
      "  self.mcmc = MCMC(\n",
      "sample: 100%|██████████| 2000/2000 [00:01<00:00, 1988.47it/s, 3 steps of size 8.93e-01. acc. prob=0.88]\n",
      "sample: 100%|██████████| 2000/2000 [00:00<00:00, 2012.41it/s, 3 steps of size 7.06e-01. acc. prob=0.94]\n",
      "sample: 100%|██████████| 2000/2000 [00:00<00:00, 2024.45it/s, 7 steps of size 6.50e-01. acc. prob=0.93]\n",
      "sample: 100%|██████████| 2000/2000 [00:00<00:00, 2081.19it/s, 3 steps of size 8.94e-01. acc. prob=0.90]\n"
     ]
    }
   ],
   "source": [
    "m1.sample()"
   ]
  },
  {
   "cell_type": "code",
   "execution_count": 8,
   "metadata": {},
   "outputs": [
    {
     "name": "stdout",
     "output_type": "stream",
     "text": [
      "\n",
      "                mean       std    median      5.0%     95.0%     n_eff     r_hat\n",
      "         a      0.00      0.11      0.01     -0.17      0.19   4029.47      1.00\n",
      "        bM      0.35      0.13      0.35      0.13      0.55   3909.32      1.00\n",
      "     sigma      0.95      0.10      0.94      0.77      1.09   3576.33      1.00\n",
      "\n",
      "Number of divergences: 0\n"
     ]
    }
   ],
   "source": [
    "m1.mcmc.print_summary(0.90)"
   ]
  },
  {
   "cell_type": "code",
   "execution_count": 9,
   "metadata": {},
   "outputs": [
    {
     "name": "stderr",
     "output_type": "stream",
     "text": [
      "/Users/tsawallis/HESSENBOX-DA/tsawallis/Projects/numpyro-oop/numpyro_oop/core.py:159: UserWarning: Sample's batch dimension size 4000 is different from the provided 200 num_samples argument. Defaulting to 4000.\n",
      "  predictive = Predictive(\n"
     ]
    }
   ],
   "source": [
    "preds = m1.predict()"
   ]
  },
  {
   "cell_type": "code",
   "execution_count": 11,
   "metadata": {},
   "outputs": [
    {
     "data": {
      "text/plain": [
       "Array([ 9.8082935e-03,  5.4307252e-01,  1.9002507e-02,  5.7984954e-01,\n",
       "       -9.1328040e-02,  3.1321731e-01, -2.7521229e-01,  2.7644044e-01,\n",
       "       -2.2004701e-01, -2.8440651e-01,  1.8449832e-01,  4.4193631e-01,\n",
       "        5.2468413e-01, -2.0165858e-01, -2.6968556e-02,  1.2933306e-01,\n",
       "        1.8449832e-01,  1.9369255e-01,  4.6585146e-02, -6.0620391e-01,\n",
       "       -1.6488174e-01, -3.9473706e-01, -3.3037758e-01, -4.4070810e-01,\n",
       "       -7.2939612e-02, -1.3729911e-01, -1.4649333e-01, -4.5356981e-02,\n",
       "       -3.1198916e-01, -4.8667917e-01,  2.8196722e-02, -3.0279493e-01,\n",
       "        2.8196722e-02,  6.0743207e-01, -2.9360071e-01,  3.4079999e-01,\n",
       "       -1.0971647e-01, -4.2231968e-01, -4.6829075e-01, -1.8327014e-01,\n",
       "        6.1408355e-04, -6.3745402e-02,  1.2933306e-01,  8.7406427e-01,\n",
       "       -3.3957177e-01,  3.7390932e-02,  1.2013883e-01,  1.9369255e-01,\n",
       "       -2.6601809e-01,  9.7520059e-01], dtype=float32)"
      ]
     },
     "execution_count": 11,
     "metadata": {},
     "output_type": "execute_result"
    }
   ],
   "source": [
    "preds[\"mu\"].mean(axis=0)"
   ]
  },
  {
   "cell_type": "markdown",
   "metadata": {},
   "source": [
    "## Hierarchical regression example"
   ]
  },
  {
   "cell_type": "markdown",
   "metadata": {},
   "source": []
  }
 ],
 "metadata": {
  "kernelspec": {
   "display_name": "numpyro-oop-h_Ko2lEj",
   "language": "python",
   "name": "python3"
  },
  "language_info": {
   "codemirror_mode": {
    "name": "ipython",
    "version": 3
   },
   "file_extension": ".py",
   "mimetype": "text/x-python",
   "name": "python",
   "nbconvert_exporter": "python",
   "pygments_lexer": "ipython3",
   "version": "3.12.4"
  }
 },
 "nbformat": 4,
 "nbformat_minor": 2
}
