{
 "cells": [
  {
   "cell_type": "markdown",
   "metadata": {},
   "source": [
    "# Demonstration of `numpyro-oop` usage\n",
    "\n"
   ]
  },
  {
   "cell_type": "code",
   "execution_count": 1,
   "metadata": {},
   "outputs": [
    {
     "name": "stderr",
     "output_type": "stream",
     "text": [
      "/Users/tsawallis/.local/share/virtualenvs/numpyro-oop-h_Ko2lEj/lib/python3.12/site-packages/tqdm/auto.py:21: TqdmWarning: IProgress not found. Please update jupyter and ipywidgets. See https://ipywidgets.readthedocs.io/en/stable/user_install.html\n",
      "  from .autonotebook import tqdm as notebook_tqdm\n"
     ]
    }
   ],
   "source": [
    "import matplotlib.pyplot as plt\n",
    "import pandas as pd\n",
    "import numpyro\n",
    "import numpyro.distributions as dist\n",
    "from numpyro.diagnostics import hpdi\n",
    "import arviz as az\n",
    "\n",
    "from numpyro_oop import BaseNumpyroModel"
   ]
  },
  {
   "cell_type": "markdown",
   "metadata": {},
   "source": [
    "## Basic regression example"
   ]
  },
  {
   "cell_type": "code",
   "execution_count": 2,
   "metadata": {},
   "outputs": [
    {
     "data": {
      "text/html": [
       "<div>\n",
       "<style scoped>\n",
       "    .dataframe tbody tr th:only-of-type {\n",
       "        vertical-align: middle;\n",
       "    }\n",
       "\n",
       "    .dataframe tbody tr th {\n",
       "        vertical-align: top;\n",
       "    }\n",
       "\n",
       "    .dataframe thead th {\n",
       "        text-align: right;\n",
       "    }\n",
       "</style>\n",
       "<table border=\"1\" class=\"dataframe\">\n",
       "  <thead>\n",
       "    <tr style=\"text-align: right;\">\n",
       "      <th></th>\n",
       "      <th>Location</th>\n",
       "      <th>Loc</th>\n",
       "      <th>Population</th>\n",
       "      <th>MedianAgeMarriage</th>\n",
       "      <th>Marriage</th>\n",
       "      <th>Marriage SE</th>\n",
       "      <th>Divorce</th>\n",
       "      <th>Divorce SE</th>\n",
       "      <th>WaffleHouses</th>\n",
       "      <th>South</th>\n",
       "      <th>Slaves1860</th>\n",
       "      <th>Population1860</th>\n",
       "      <th>PropSlaves1860</th>\n",
       "    </tr>\n",
       "  </thead>\n",
       "  <tbody>\n",
       "    <tr>\n",
       "      <th>0</th>\n",
       "      <td>Alabama</td>\n",
       "      <td>AL</td>\n",
       "      <td>4.78</td>\n",
       "      <td>25.3</td>\n",
       "      <td>20.2</td>\n",
       "      <td>1.27</td>\n",
       "      <td>12.7</td>\n",
       "      <td>0.79</td>\n",
       "      <td>128</td>\n",
       "      <td>1</td>\n",
       "      <td>435080</td>\n",
       "      <td>964201</td>\n",
       "      <td>0.45</td>\n",
       "    </tr>\n",
       "    <tr>\n",
       "      <th>1</th>\n",
       "      <td>Alaska</td>\n",
       "      <td>AK</td>\n",
       "      <td>0.71</td>\n",
       "      <td>25.2</td>\n",
       "      <td>26.0</td>\n",
       "      <td>2.93</td>\n",
       "      <td>12.5</td>\n",
       "      <td>2.05</td>\n",
       "      <td>0</td>\n",
       "      <td>0</td>\n",
       "      <td>0</td>\n",
       "      <td>0</td>\n",
       "      <td>0.00</td>\n",
       "    </tr>\n",
       "    <tr>\n",
       "      <th>2</th>\n",
       "      <td>Arizona</td>\n",
       "      <td>AZ</td>\n",
       "      <td>6.33</td>\n",
       "      <td>25.8</td>\n",
       "      <td>20.3</td>\n",
       "      <td>0.98</td>\n",
       "      <td>10.8</td>\n",
       "      <td>0.74</td>\n",
       "      <td>18</td>\n",
       "      <td>0</td>\n",
       "      <td>0</td>\n",
       "      <td>0</td>\n",
       "      <td>0.00</td>\n",
       "    </tr>\n",
       "    <tr>\n",
       "      <th>3</th>\n",
       "      <td>Arkansas</td>\n",
       "      <td>AR</td>\n",
       "      <td>2.92</td>\n",
       "      <td>24.3</td>\n",
       "      <td>26.4</td>\n",
       "      <td>1.70</td>\n",
       "      <td>13.5</td>\n",
       "      <td>1.22</td>\n",
       "      <td>41</td>\n",
       "      <td>1</td>\n",
       "      <td>111115</td>\n",
       "      <td>435450</td>\n",
       "      <td>0.26</td>\n",
       "    </tr>\n",
       "    <tr>\n",
       "      <th>4</th>\n",
       "      <td>California</td>\n",
       "      <td>CA</td>\n",
       "      <td>37.25</td>\n",
       "      <td>26.8</td>\n",
       "      <td>19.1</td>\n",
       "      <td>0.39</td>\n",
       "      <td>8.0</td>\n",
       "      <td>0.24</td>\n",
       "      <td>0</td>\n",
       "      <td>0</td>\n",
       "      <td>0</td>\n",
       "      <td>379994</td>\n",
       "      <td>0.00</td>\n",
       "    </tr>\n",
       "  </tbody>\n",
       "</table>\n",
       "</div>"
      ],
      "text/plain": [
       "     Location Loc  Population  MedianAgeMarriage  Marriage  Marriage SE  \\\n",
       "0     Alabama  AL        4.78               25.3      20.2         1.27   \n",
       "1      Alaska  AK        0.71               25.2      26.0         2.93   \n",
       "2     Arizona  AZ        6.33               25.8      20.3         0.98   \n",
       "3    Arkansas  AR        2.92               24.3      26.4         1.70   \n",
       "4  California  CA       37.25               26.8      19.1         0.39   \n",
       "\n",
       "   Divorce  Divorce SE  WaffleHouses  South  Slaves1860  Population1860  \\\n",
       "0     12.7        0.79           128      1      435080          964201   \n",
       "1     12.5        2.05             0      0           0               0   \n",
       "2     10.8        0.74            18      0           0               0   \n",
       "3     13.5        1.22            41      1      111115          435450   \n",
       "4      8.0        0.24             0      0           0          379994   \n",
       "\n",
       "   PropSlaves1860  \n",
       "0            0.45  \n",
       "1            0.00  \n",
       "2            0.00  \n",
       "3            0.26  \n",
       "4            0.00  "
      ]
     },
     "execution_count": 2,
     "metadata": {},
     "output_type": "execute_result"
    }
   ],
   "source": [
    "# example from https://num.pyro.ai/en/stable/tutorials/bayesian_regression.html\n",
    "\n",
    "DATASET_URL = \"https://raw.githubusercontent.com/rmcelreath/rethinking/master/data/WaffleDivorce.csv\"\n",
    "dset = pd.read_csv(DATASET_URL, sep=\";\")\n",
    "dset.head()"
   ]
  },
  {
   "cell_type": "code",
   "execution_count": 3,
   "metadata": {},
   "outputs": [],
   "source": [
    "def standardize(x):\n",
    "    return (x - x.mean()) / x.std()\n",
    "\n",
    "\n",
    "dset[\"AgeScaled\"] = dset.MedianAgeMarriage.pipe(standardize)\n",
    "dset[\"MarriageScaled\"] = dset.Marriage.pipe(standardize)\n",
    "dset[\"DivorceScaled\"] = dset.Divorce.pipe(standardize)"
   ]
  },
  {
   "cell_type": "markdown",
   "metadata": {},
   "source": [
    "### Defining the model class\n",
    "\n",
    "The basic idea of `numpyro-oop` is that the user should define a new class that inherits from `BaseNumpyroModel`. \n",
    "This new class mainly needs to define the `model` method.\n",
    "Then all other sampling and prediction steps are handled by `numpyro-oop`, or related libraries (e.g. `arviz`).\n",
    "\n",
    "Here's a demonstration of a basic `RegressionModel` class plus `model` definition for the data above.\n",
    "See the [numpyro demo here](https://num.pyro.ai/en/stable/tutorials/bayesian_regression.html) for more."
   ]
  },
  {
   "cell_type": "code",
   "execution_count": 4,
   "metadata": {},
   "outputs": [],
   "source": [
    "class RegressionModel(BaseNumpyroModel):\n",
    "    def model(self, data=None):\n",
    "        a = numpyro.sample(\"a\", dist.Normal(0.0, 0.2))\n",
    "        bM = numpyro.sample(\"bM\", dist.Normal(0.0, 0.5))\n",
    "        M = bM * data.MarriageScaled.values\n",
    "        sigma = numpyro.sample(\"sigma\", dist.Exponential(1.0))\n",
    "        mu = numpyro.deterministic(\"mu\", a + M)\n",
    "        numpyro.sample(\"obs\", dist.Normal(mu, sigma), obs=data.DivorceScaled.values)"
   ]
  },
  {
   "cell_type": "markdown",
   "metadata": {},
   "source": [
    "We can now instantiate this class, adding the dataset and a random seed.\n"
   ]
  },
  {
   "cell_type": "code",
   "execution_count": 5,
   "metadata": {},
   "outputs": [],
   "source": [
    "m1 = RegressionModel(data=dset, seed=42)"
   ]
  },
  {
   "cell_type": "markdown",
   "metadata": {},
   "source": [
    "We can also render a graphical representation of our model (requires `graphviz` package)."
   ]
  },
  {
   "cell_type": "code",
   "execution_count": 6,
   "metadata": {},
   "outputs": [],
   "source": [
    "m1_graph = m1.render()"
   ]
  },
  {
   "cell_type": "markdown",
   "metadata": {},
   "source": [
    "Now sample from the model (using the NUTS sampler, by default):"
   ]
  },
  {
   "cell_type": "code",
   "execution_count": 7,
   "metadata": {},
   "outputs": [
    {
     "name": "stderr",
     "output_type": "stream",
     "text": [
      "/Users/tsawallis/HESSENBOX-DA/tsawallis/Projects/numpyro-oop/numpyro_oop/core.py:133: UserWarning: There are not enough devices to run parallel chains: expected 4 but got 1. Chains will be drawn sequentially. If you are running MCMC in CPU, consider using `numpyro.set_host_device_count(4)` at the beginning of your program. You can double-check how many devices are available in your system using `jax.local_device_count()`.\n",
      "  self.mcmc = MCMC(\n",
      "sample: 100%|██████████| 2000/2000 [00:01<00:00, 1612.40it/s, 3 steps of size 8.93e-01. acc. prob=0.88]\n",
      "sample: 100%|██████████| 2000/2000 [00:01<00:00, 1629.40it/s, 3 steps of size 7.06e-01. acc. prob=0.94]\n",
      "sample: 100%|██████████| 2000/2000 [00:01<00:00, 1341.93it/s, 7 steps of size 6.50e-01. acc. prob=0.93]\n",
      "sample: 100%|██████████| 2000/2000 [00:01<00:00, 1719.32it/s, 3 steps of size 8.94e-01. acc. prob=0.90]\n"
     ]
    }
   ],
   "source": [
    "m1.sample()"
   ]
  },
  {
   "cell_type": "code",
   "execution_count": 8,
   "metadata": {},
   "outputs": [
    {
     "name": "stdout",
     "output_type": "stream",
     "text": [
      "\n",
      "                mean       std    median      5.0%     95.0%     n_eff     r_hat\n",
      "         a      0.00      0.11      0.01     -0.17      0.19   4029.47      1.00\n",
      "        bM      0.35      0.13      0.35      0.13      0.55   3909.32      1.00\n",
      "     sigma      0.95      0.10      0.94      0.77      1.09   3576.33      1.00\n",
      "\n",
      "Number of divergences: 0\n"
     ]
    }
   ],
   "source": [
    "m1.mcmc.print_summary(0.90)"
   ]
  },
  {
   "cell_type": "code",
   "execution_count": 9,
   "metadata": {},
   "outputs": [
    {
     "name": "stderr",
     "output_type": "stream",
     "text": [
      "/Users/tsawallis/HESSENBOX-DA/tsawallis/Projects/numpyro-oop/numpyro_oop/core.py:185: UserWarning: Sample's batch dimension size 4000 is different from the provided 200 num_samples argument. Defaulting to 4000.\n",
      "  predictive = Predictive(\n"
     ]
    }
   ],
   "source": [
    "# pred_data = pd.DataFrame({\"MarriageScaled\": np.linspace(-2, 2, 50)})\n",
    "preds = m1.predict()\n",
    "post_pred_mean = preds[\"mu\"].mean(axis=0)\n",
    "post_pred_hpdi = hpdi(preds[\"mu\"], 0.9)\n",
    "dset[\"post_mean\"] = post_pred_mean\n",
    "dset[\"post_lower\"] = post_pred_hpdi[0]\n",
    "dset[\"post_upper\"] = post_pred_hpdi[1]"
   ]
  },
  {
   "cell_type": "code",
   "execution_count": 10,
   "metadata": {},
   "outputs": [
    {
     "data": {
      "image/png": "[encoded data removed]",
      "text/plain": [
       "<Figure size 640x480 with 1 Axes>"
      ]
     },
     "metadata": {},
     "output_type": "display_data"
    }
   ],
   "source": [
    "sorted_dset = dset.copy().sort_values(by=[\"MarriageScaled\"])\n",
    "\n",
    "fig, ax = plt.subplots()\n",
    "ax.plot(sorted_dset[\"MarriageScaled\"], sorted_dset[\"post_mean\"], \"b-\")\n",
    "ax.fill_between(\n",
    "    sorted_dset[\"MarriageScaled\"],\n",
    "    y1=sorted_dset[\"post_lower\"],\n",
    "    y2=sorted_dset[\"post_upper\"],\n",
    "    alpha=0.5,\n",
    ")\n",
    "ax.plot(sorted_dset[\"MarriageScaled\"], sorted_dset[\"DivorceScaled\"], \"ko\")\n",
    "ax.set_xlabel(\"Marriage (z-score)\")\n",
    "ax.set_ylabel(\"Divorce (z-score)\")\n",
    "ax.set_title(\"Regression between marriage and divorce\")\n",
    "plt.show()"
   ]
  },
  {
   "cell_type": "markdown",
   "metadata": {},
   "source": [
    "## Hierarchical inference example: Eight schools\n",
    "\n",
    "Here we use the popular Eight schools dataset to demonstrate the implementation of a hierarchical model and the use of plates with `numpyro-oop`.\n",
    "The reference implementation in the `numpyro` docs is here: https://num.pyro.ai/en/stable/getting_started.html#a-simple-example-8-schools\n",
    "\n",
    "The dataset was collected by Alderman and Powers (1979) and reported in Rubin (1981).\n",
    "It was described by Sturtz et al (2005):\n",
    "\n",
    "> The Scholastic Aptitude Test (SAT) measures the aptitude of high-schoolers in order to help colleges to make admissions decisions. It is divided into two parts, verbal (SAT-V) and mathematical (SAT-M). Our data comes from the SAT-V (Scholastic Aptitude Test-Verbal) on eight different high schools, from an experiment conducted in the late 1970s. SAT-V is a standard multiple choice test administered by the Educational Testing Service. This Service was interested in the effects of coaching programs for each of the selected schools.\n",
    ">\n",
    "> The study included coached and uncoached pupils, about sixty in each of the eight different schools; see Rubin (1981). All of them had already taken the PSAT (Preliminary SAT) which results were used as covariates. For each school, the estimated treatment effect and the standard error of the effect estimate are given. These are calculated by an analysis of covariance adjustment appropriate for a completely randomized experiment (Rubin 1981). This example was analyzed using a hierarchical normal model in Rubin (1981) and Gelman, Carlin, Stern, and Rubin (2003, Section 5.5).\n",
    "\n",
    "#### References\n",
    "\n",
    "Alderman, D., & Powers, D. (1979). The effects of special preparation on SAT-Verbal scores. Research Report 79–1. Educational Testing Service, Princeton, N.J.\n",
    "\n",
    "Rubin, D. B. (1981). Estimation in Parallel Randomized Experiments. *Journal of Educational Statistics, 6*(4), 377–400.\n",
    "\n",
    "Sturtz, S., Ligges, U., & Gelman, A. (2005). R2WinBUGS: A Package for Running WinBUGS from R. Journal of Statistical Software, 12(3). https://doi.org/10.18637/jss.v012.i03\n"
   ]
  },
  {
   "cell_type": "code",
   "execution_count": 11,
   "metadata": {},
   "outputs": [
    {
     "data": {
      "text/html": [
       "<div>\n",
       "<style scoped>\n",
       "    .dataframe tbody tr th:only-of-type {\n",
       "        vertical-align: middle;\n",
       "    }\n",
       "\n",
       "    .dataframe tbody tr th {\n",
       "        vertical-align: top;\n",
       "    }\n",
       "\n",
       "    .dataframe thead th {\n",
       "        text-align: right;\n",
       "    }\n",
       "</style>\n",
       "<table border=\"1\" class=\"dataframe\">\n",
       "  <thead>\n",
       "    <tr style=\"text-align: right;\">\n",
       "      <th></th>\n",
       "      <th>school</th>\n",
       "      <th>treatment_effect</th>\n",
       "      <th>treatment_sd</th>\n",
       "    </tr>\n",
       "  </thead>\n",
       "  <tbody>\n",
       "    <tr>\n",
       "      <th>0</th>\n",
       "      <td>A</td>\n",
       "      <td>28.39</td>\n",
       "      <td>14.9</td>\n",
       "    </tr>\n",
       "    <tr>\n",
       "      <th>1</th>\n",
       "      <td>B</td>\n",
       "      <td>7.94</td>\n",
       "      <td>10.2</td>\n",
       "    </tr>\n",
       "    <tr>\n",
       "      <th>2</th>\n",
       "      <td>C</td>\n",
       "      <td>-2.75</td>\n",
       "      <td>16.3</td>\n",
       "    </tr>\n",
       "    <tr>\n",
       "      <th>3</th>\n",
       "      <td>D</td>\n",
       "      <td>6.82</td>\n",
       "      <td>11.0</td>\n",
       "    </tr>\n",
       "    <tr>\n",
       "      <th>4</th>\n",
       "      <td>E</td>\n",
       "      <td>-0.64</td>\n",
       "      <td>9.4</td>\n",
       "    </tr>\n",
       "    <tr>\n",
       "      <th>5</th>\n",
       "      <td>F</td>\n",
       "      <td>0.63</td>\n",
       "      <td>11.4</td>\n",
       "    </tr>\n",
       "    <tr>\n",
       "      <th>6</th>\n",
       "      <td>G</td>\n",
       "      <td>18.01</td>\n",
       "      <td>10.4</td>\n",
       "    </tr>\n",
       "    <tr>\n",
       "      <th>7</th>\n",
       "      <td>H</td>\n",
       "      <td>12.16</td>\n",
       "      <td>17.6</td>\n",
       "    </tr>\n",
       "  </tbody>\n",
       "</table>\n",
       "</div>"
      ],
      "text/plain": [
       "  school  treatment_effect  treatment_sd\n",
       "0      A             28.39          14.9\n",
       "1      B              7.94          10.2\n",
       "2      C             -2.75          16.3\n",
       "3      D              6.82          11.0\n",
       "4      E             -0.64           9.4\n",
       "5      F              0.63          11.4\n",
       "6      G             18.01          10.4\n",
       "7      H             12.16          17.6"
      ]
     },
     "execution_count": 11,
     "metadata": {},
     "output_type": "execute_result"
    }
   ],
   "source": [
    "df = pd.DataFrame(\n",
    "    {\n",
    "        \"school\": [\"A\", \"B\", \"C\", \"D\", \"E\", \"F\", \"G\", \"H\"],\n",
    "        \"treatment_effect\": [28.39, 7.94, -2.75, 6.82, -0.64, 0.63, 18.01, 12.16],\n",
    "        \"treatment_sd\": [14.9, 10.2, 16.3, 11.0, 9.4, 11.4, 10.4, 17.6],\n",
    "    }\n",
    ")\n",
    "df"
   ]
  },
  {
   "cell_type": "markdown",
   "metadata": {},
   "source": [
    "`numpyro-oop` allows us to specify grouping variables in the dataframe. \n",
    "Each grouping variable will be used to create a `numpyro.plate` object stored internally in the model class. \n",
    "The `model` definition can then use this plate object in the standard context.\n",
    "The advantage here is that we can verify that dimensions and labels correspond.\n",
    "\n",
    "To see how the plate structure will correspond to the variable school, let's call this first on the base class:"
   ]
  },
  {
   "cell_type": "code",
   "execution_count": 12,
   "metadata": {},
   "outputs": [
    {
     "data": {
      "text/plain": [
       "{'school': {'coords': {0: 'A',\n",
       "   1: 'B',\n",
       "   2: 'C',\n",
       "   3: 'D',\n",
       "   4: 'E',\n",
       "   5: 'F',\n",
       "   6: 'G',\n",
       "   7: 'H'},\n",
       "  'dim': -1,\n",
       "  'size': 8,\n",
       "  'idx': array([0, 1, 2, 3, 4, 5, 6, 7], dtype=int8),\n",
       "  'plate': <numpyro.primitives.plate at 0x12eec7c80>}}"
      ]
     },
     "execution_count": 12,
     "metadata": {},
     "output_type": "execute_result"
    }
   ],
   "source": [
    "tmp = BaseNumpyroModel(seed=1, data=df, group_variables=\"school\")\n",
    "tmp.plate_dicts"
   ]
  },
  {
   "cell_type": "markdown",
   "metadata": {},
   "source": [
    "We can then make use of this plate with the context `self.plate_dicts[\"school\"][\"plate\"]` in the body of our model:"
   ]
  },
  {
   "cell_type": "code",
   "execution_count": 23,
   "metadata": {},
   "outputs": [],
   "source": [
    "class EightSchools(BaseNumpyroModel):\n",
    "    def model(self, data=None):\n",
    "        y = data.treatment_effect.values\n",
    "        sigma = data.treatment_sd.values\n",
    "        mu = numpyro.sample(\"mu\", dist.Normal(0, 5))\n",
    "        tau = numpyro.sample(\"tau\", dist.HalfCauchy(5))\n",
    "        with self.plate_dicts[\"school\"][\"plate\"]:\n",
    "            theta = numpyro.sample(\"theta\", dist.Normal(mu, tau))\n",
    "        numpyro.sample(\n",
    "            \"obs\", dist.Normal(theta[self.plate_dicts[\"school\"][\"idx\"]], sigma), obs=y\n",
    "        )  # could also include in the plate context; used to demo \"idx\" here."
   ]
  },
  {
   "cell_type": "markdown",
   "metadata": {},
   "source": [
    "Note that this is equivalent to writing \n",
    "\n",
    "```python\n",
    "with numpyro.plate(\"school\", size=8, dim=-1):\n",
    "  ...\n",
    "```"
   ]
  },
  {
   "cell_type": "code",
   "execution_count": 24,
   "metadata": {},
   "outputs": [
    {
     "data": {
      "image/svg+xml": [
       "<?xml version=\"1.0\" encoding=\"UTF-8\" standalone=\"no\"?>\n",
       "<!DOCTYPE svg PUBLIC \"-//W3C//DTD SVG 1.1//EN\"\n",
       " \"http://www.w3.org/Graphics/SVG/1.1/DTD/svg11.dtd\">\n",
       "<!-- Generated by graphviz version 12.0.0 (20240704.0754)\n",
       " -->\n",
       "<!-- Pages: 1 -->\n",
       "<svg width=\"264pt\" height=\"226pt\"\n",
       " viewBox=\"0.00 0.00 264.38 226.00\" xmlns=\"http://www.w3.org/2000/svg\" xmlns:xlink=\"http://www.w3.org/1999/xlink\">\n",
       "<g id=\"graph0\" class=\"graph\" transform=\"scale(1 1) rotate(0) translate(4 222)\">\n",
       "<polygon fill=\"white\" stroke=\"none\" points=\"-4,4 -4,-222 260.38,-222 260.38,4 -4,4\"/>\n",
       "<!-- mu -->\n",
       "<g id=\"node1\" class=\"node\">\n",
       "<title>mu</title>\n",
       "<ellipse fill=\"white\" stroke=\"black\" cx=\"27\" cy=\"-181\" rx=\"27\" ry=\"18\"/>\n",
       "<text text-anchor=\"middle\" x=\"27\" y=\"-175.95\" font-family=\"Times,serif\" font-size=\"14.00\">mu</text>\n",
       "</g>\n",
       "<!-- theta -->\n",
       "<g id=\"node3\" class=\"node\">\n",
       "<title>theta</title>\n",
       "<ellipse fill=\"white\" stroke=\"black\" cx=\"63\" cy=\"-90\" rx=\"28.83\" ry=\"18\"/>\n",
       "<text text-anchor=\"middle\" x=\"63\" y=\"-84.95\" font-family=\"Times,serif\" font-size=\"14.00\">theta</text>\n",
       "</g>\n",
       "<!-- mu&#45;&gt;theta -->\n",
       "<g id=\"edge1\" class=\"edge\">\n",
       "<title>mu&#45;&gt;theta</title>\n",
       "<path fill=\"none\" stroke=\"black\" d=\"M33.77,-163.26C38.87,-150.66 45.96,-133.12 51.89,-118.47\"/>\n",
       "<polygon fill=\"black\" stroke=\"black\" points=\"55.06,-119.95 55.57,-109.37 48.57,-117.33 55.06,-119.95\"/>\n",
       "</g>\n",
       "<!-- tau -->\n",
       "<g id=\"node2\" class=\"node\">\n",
       "<title>tau</title>\n",
       "<ellipse fill=\"white\" stroke=\"black\" cx=\"99\" cy=\"-181\" rx=\"27\" ry=\"18\"/>\n",
       "<text text-anchor=\"middle\" x=\"99\" y=\"-175.95\" font-family=\"Times,serif\" font-size=\"14.00\">tau</text>\n",
       "</g>\n",
       "<!-- tau&#45;&gt;theta -->\n",
       "<g id=\"edge2\" class=\"edge\">\n",
       "<title>tau&#45;&gt;theta</title>\n",
       "<path fill=\"none\" stroke=\"black\" d=\"M92.23,-163.26C87.13,-150.66 80.04,-133.12 74.11,-118.47\"/>\n",
       "<polygon fill=\"black\" stroke=\"black\" points=\"77.43,-117.33 70.43,-109.37 70.94,-119.95 77.43,-117.33\"/>\n",
       "</g>\n",
       "<!-- obs -->\n",
       "<g id=\"node4\" class=\"node\">\n",
       "<title>obs</title>\n",
       "<ellipse fill=\"grey\" stroke=\"black\" cx=\"63\" cy=\"-18\" rx=\"27\" ry=\"18\"/>\n",
       "<text text-anchor=\"middle\" x=\"63\" y=\"-12.95\" font-family=\"Times,serif\" font-size=\"14.00\">obs</text>\n",
       "</g>\n",
       "<!-- theta&#45;&gt;obs -->\n",
       "<g id=\"edge3\" class=\"edge\">\n",
       "<title>theta&#45;&gt;obs</title>\n",
       "<path fill=\"none\" stroke=\"black\" d=\"M63,-71.7C63,-64.41 63,-55.73 63,-47.54\"/>\n",
       "<polygon fill=\"black\" stroke=\"black\" points=\"66.5,-47.62 63,-37.62 59.5,-47.62 66.5,-47.62\"/>\n",
       "</g>\n",
       "<!-- distribution_description_node -->\n",
       "<g id=\"node5\" class=\"node\">\n",
       "<title>distribution_description_node</title>\n",
       "<text text-anchor=\"start\" x=\"151.62\" y=\"-200.7\" font-family=\"Times,serif\" font-size=\"14.00\">mu ~ Normal</text>\n",
       "<text text-anchor=\"start\" x=\"151.62\" y=\"-184.2\" font-family=\"Times,serif\" font-size=\"14.00\">tau ~ HalfCauchy</text>\n",
       "<text text-anchor=\"start\" x=\"151.62\" y=\"-167.7\" font-family=\"Times,serif\" font-size=\"14.00\">theta ~ Normal</text>\n",
       "<text text-anchor=\"start\" x=\"151.62\" y=\"-151.2\" font-family=\"Times,serif\" font-size=\"14.00\">obs ~ Normal</text>\n",
       "</g>\n",
       "</g>\n",
       "</svg>\n"
      ],
      "text/plain": [
       "<graphviz.graphs.Digraph at 0x12ee06f60>"
      ]
     },
     "execution_count": 24,
     "metadata": {},
     "output_type": "execute_result"
    }
   ],
   "source": [
    "m2 = EightSchools(seed=258, data=df, group_variables=\"school\")\n",
    "m2.render()  # fails to render plate"
   ]
  },
  {
   "cell_type": "markdown",
   "metadata": {},
   "source": [
    "Note that while the `numpyro-oop` plate wrapper (`self.plate_dicts[\"school\"][\"plate\"]`) works for sampling (see below), it does cause problems with rendering the graphical model (no plate is shown)."
   ]
  },
  {
   "cell_type": "code",
   "execution_count": 25,
   "metadata": {},
   "outputs": [
    {
     "name": "stderr",
     "output_type": "stream",
     "text": [
      "/Users/tsawallis/HESSENBOX-DA/tsawallis/Projects/numpyro-oop/numpyro_oop/core.py:133: UserWarning: There are not enough devices to run parallel chains: expected 4 but got 1. Chains will be drawn sequentially. If you are running MCMC in CPU, consider using `numpyro.set_host_device_count(4)` at the beginning of your program. You can double-check how many devices are available in your system using `jax.local_device_count()`.\n",
      "  self.mcmc = MCMC(\n",
      "sample: 100%|██████████| 2000/2000 [00:01<00:00, 1659.86it/s, 15 steps of size 1.28e-01. acc. prob=0.87]\n",
      "sample: 100%|██████████| 2000/2000 [00:01<00:00, 1732.37it/s, 15 steps of size 2.23e-01. acc. prob=0.75]\n",
      "sample: 100%|██████████| 2000/2000 [00:01<00:00, 1809.87it/s, 15 steps of size 1.66e-01. acc. prob=0.86]\n",
      "sample: 100%|██████████| 2000/2000 [00:01<00:00, 1692.16it/s, 15 steps of size 2.62e-01. acc. prob=0.63]\n"
     ]
    },
    {
     "name": "stdout",
     "output_type": "stream",
     "text": [
      "\n",
      "                mean       std    median      5.0%     95.0%     n_eff     r_hat\n",
      "        mu      4.53      3.25      4.70     -0.68      9.80    504.46      1.01\n",
      "       tau      4.07      3.17      3.21      0.50      8.12    326.20      1.00\n",
      "  theta[0]      6.66      5.96      6.20     -2.42     15.76    896.76      1.00\n",
      "  theta[1]      5.11      4.80      5.18     -2.20     12.98    992.11      1.01\n",
      "  theta[2]      4.06      5.49      4.41     -4.34     13.00   1075.68      1.01\n",
      "  theta[3]      4.87      4.94      4.88     -2.73     13.15   1161.42      1.00\n",
      "  theta[4]      3.69      4.87      4.11     -4.31     11.37    906.46      1.00\n",
      "  theta[5]      4.01      5.07      4.46     -4.20     12.12   1089.90      1.00\n",
      "  theta[6]      6.57      5.18      6.33     -1.50     15.04    848.84      1.01\n",
      "  theta[7]      5.02      5.48      4.98     -3.77     13.85    996.11      1.01\n",
      "\n",
      "Number of divergences: 78\n"
     ]
    }
   ],
   "source": [
    "m2.sample()\n",
    "m2.mcmc.print_summary(0.9)"
   ]
  },
  {
   "cell_type": "code",
   "execution_count": null,
   "metadata": {},
   "outputs": [],
   "source": []
  }
 ],
 "metadata": {
  "kernelspec": {
   "display_name": "numpyro-oop-h_Ko2lEj",
   "language": "python",
   "name": "python3"
  },
  "language_info": {
   "codemirror_mode": {
    "name": "ipython",
    "version": 3
   },
   "file_extension": ".py",
   "mimetype": "text/x-python",
   "name": "python",
   "nbconvert_exporter": "python",
   "pygments_lexer": "ipython3",
   "version": "3.12.4"
  }
 },
 "nbformat": 4,
 "nbformat_minor": 2
}
